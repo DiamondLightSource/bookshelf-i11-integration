{
 "cells": [
  {
   "cell_type": "code",
   "execution_count": null,
   "id": "sacred-circle",
   "metadata": {
    "scrolled": true
   },
   "outputs": [],
   "source": [
    "# Imports\n",
    "\n",
    "import os\n",
    "import shutil\n",
    "import sys\n",
    "from pathlib import Path\n",
    "from typing import List\n",
    "\n",
    "import h5py\n",
    "import matplotlib.pyplot as plt\n",
    "import numpy as np\n",
    "import pyFAI\n",
    "from pyFAI.calibrant import CALIBRANT_FACTORY\n",
    "from pyFAI.goniometer import SingleGeometry\n",
    "from pyFAI.gui import jupyter\n",
    "from tqdm.notebook import tqdm\n",
    "\n",
    "plt.rcParams[\"figure.figsize\"] = 13, 7"
   ]
  },
  {
   "cell_type": "code",
   "execution_count": null,
   "id": "intermediate-slovak",
   "metadata": {
    "tags": [
     "parameters"
    ]
   },
   "outputs": [],
   "source": [
    "# Papermill things\n",
    "inpath: str = None  # Incoming nexus file _auto_\n",
    "outpath: str = None  # The outgoing nexus file _auto_\n",
    "dataset_path: str = \"entry/data\"  # The path to the data in the nexus file _auto_\n",
    "# Where in the nexus file the poni path is _required_\n",
    "poni_tree_location: str = \"/entry1/poni\"\n",
    "n_pts: str = None  # Initial Poni File,full path to the poni file _required_\n",
    "host: str = None  # the host on which the GDA server is running _auto_"
   ]
  },
  {
   "cell_type": "code",
   "execution_count": null,
   "id": "cosmetic-prescription",
   "metadata": {},
   "outputs": [],
   "source": [
    "inpath = Path(\"/inputs\").joinpath(inpath)\n",
    "outpath = Path(\"/outputs\").joinpath(outpath)\n",
    "xy_tth_filepath = outpath.with_stem(f\"{outpath.stem}_tth\").with_suffix(\".xy\")\n",
    "xy_q_filepath = outpath.with_stem(f\"{outpath.stem}_q\").with_suffix(\".xy\")"
   ]
  },
  {
   "cell_type": "code",
   "execution_count": null,
   "id": "perceived-australian",
   "metadata": {},
   "outputs": [],
   "source": [
    "# Daq Messenger\n",
    "sys.path.append(\"/dls_sw/apps/daq-messenger\")\n",
    "daq = None\n",
    "try:\n",
    "    from daqmessenger import DaqMessenger\n",
    "    daq = DaqMessenger(host)\n",
    "    daq.connect()\n",
    "except Exception as e:\n",
    "    print(\"no messenger\")"
   ]
  },
  {
   "cell_type": "markdown",
   "id": "solved-bridges",
   "metadata": {},
   "source": [
    "# Integration"
   ]
  },
  {
   "cell_type": "code",
   "execution_count": null,
   "id": "broadband-present",
   "metadata": {},
   "outputs": [],
   "source": [
    "try:\n",
    "    with h5py.File(inpath, 'r') as f:\n",
    "        # poni things\n",
    "        poni_filepath = f.get(poni_tree_location)[()].decode(\"utf-8\")\n",
    "        print(\"the poni filepath is {}\".format(poni_filepath))\n",
    "        ai = pyFAI.load(poni_filepath)\n",
    "\n",
    "        # get the size / shape of the scan\n",
    "        data_all = f.get(dataset_path)\n",
    "        scan_dimensions = data_all.shape[:-2]\n",
    "\n",
    "        # set up the result arrays\n",
    "        results_q = results_tth = np.zeros(list(scan_dimensions) + [n_pts])\n",
    "\n",
    "        # iterate\n",
    "        for index in tqdm(np.ndindex(scan_dimensions), total=np.product(scan_dimensions)):\n",
    "            data = data_all[index][()].squeeze()\n",
    "\n",
    "            result_tth = ai.integrate1d(\n",
    "                data, n_pts, unit=pyFAI.units.TTH_DEG, radial_range=[0, 48])\n",
    "            results_tth[index] = result_tth.intensity\n",
    "            xy_tth = xy_tth_filepath.with_stem(\n",
    "                xy_tth_filepath.stem + \"_\" + \"_\".join([str(x).zfill(4) for x in index]))\n",
    "            np.savetxt(xy_tth, np.transpose(result_tth))\n",
    "\n",
    "            result_q = ai.integrate1d(\n",
    "                data, n_pts, unit=pyFAI.units.Q_A, radial_range=[0, 10.4])\n",
    "            results_q[index] = result_q.intensity\n",
    "            xy_q = xy_q_filepath.with_stem(\n",
    "                xy_q_filepath.stem + \"_\" + \"_\".join([str(x).zfill(4) for x in index]))\n",
    "            np.savetxt(xy_q, np.transpose(result_q))\n",
    "\n",
    "except Exception as e:\n",
    "    print(\"could not extract initial information from {}\".format(inpath))\n",
    "    raise e"
   ]
  },
  {
   "cell_type": "code",
   "execution_count": null,
   "id": "ruled-spokesman",
   "metadata": {},
   "outputs": [],
   "source": [
    "ax = jupyter.plot1d(result_tth)"
   ]
  },
  {
   "cell_type": "code",
   "execution_count": null,
   "id": "increased-hands",
   "metadata": {},
   "outputs": [],
   "source": [
    "# we could also usefully dump this stuff in a nexus file\n",
    "with h5py.File(str(outpath), 'w') as f:\n",
    "    # -- entry\n",
    "    nxentry = f.create_group(\"entry\")\n",
    "    nxentry.attrs[\"NX_class\"] = \"NXentry\"\n",
    "\n",
    "    # -- data\n",
    "    nxdata = nxentry.create_group(\"data\")\n",
    "    nxdata.attrs[\"NX_class\"] = \"NXdata\"\n",
    "    nxdata.attrs[\"signal\"] = \"counts\"\n",
    "    nxdata.attrs[\"axes\"] = \"two_theta\"\n",
    "    nxdata.attrs[\"two_theta_indices\"] = [\n",
    "        len(scan_dimensions),\n",
    "    ]\n",
    "\n",
    "    tth = nxdata.create_dataset(\"two_theta\", data=result_tth.radial)\n",
    "    tth.attrs[\"units\"] = \"degrees\"\n",
    "    counts = nxdata.create_dataset(\"counts\", data=results_tth)\n",
    "    counts.attrs[\"units\"] = \"counts\"\n",
    "\n",
    "    q = nxdata.create_dataset(\"q\", data=result_q.radial)\n",
    "    q.attrs[\"units\"] = \"inverse_angstroms\"\n",
    "    counts_q = nxdata.create_dataset(\"counts_q\", data=results_q)\n",
    "    counts_q.attrs[\"units\"] = \"counts\"\n",
    "\n",
    "    nxentry['raw'] = h5py.ExternalLink(inpath, \"/\")"
   ]
  },
  {
   "cell_type": "code",
   "execution_count": null,
   "id": "deadly-evanescence",
   "metadata": {},
   "outputs": [],
   "source": [
    "# try to send the pattern back to the client\n",
    "if daq:\n",
    "    daq.send_file(str(outpath))\n",
    "    magic_path = str(inpath.parent / Path(\".ispyb\") /\n",
    "                     inpath.stem) + \"_pixium_hdf/data.dat\"\n",
    "    shutil.copy2(xy_tth, magic_path)"
   ]
  }
 ],
 "metadata": {
  "kernelspec": {
   "display_name": "Python 3.10.8 64-bit",
   "language": "python",
   "name": "python3"
  },
  "language_info": {
   "codemirror_mode": {
    "name": "ipython",
    "version": 3
   },
   "file_extension": ".py",
   "mimetype": "text/x-python",
   "name": "python",
   "nbconvert_exporter": "python",
   "pygments_lexer": "ipython3",
   "version": "3.10.8"
  },
  "vscode": {
   "interpreter": {
    "hash": "949777d72b0d2535278d3dc13498b2535136f6dfe0678499012e853ee9abcab1"
   }
  }
 },
 "nbformat": 4,
 "nbformat_minor": 5
}
